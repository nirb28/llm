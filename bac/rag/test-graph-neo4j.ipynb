{
  "nbformat": 4,
  "nbformat_minor": 0,
  "metadata": {
    "colab": {
      "provenance": [],
      "gpuType": "T4",
      "include_colab_link": true
    },
    "kernelspec": {
      "name": "python3",
      "display_name": "Python 3"
    },
    "language_info": {
      "name": "python"
    },
    "accelerator": "GPU"
  },
  "cells": [
    {
      "cell_type": "markdown",
      "metadata": {
        "id": "view-in-github",
        "colab_type": "text"
      },
      "source": [
        "<a href=\"https://colab.research.google.com/github/nirb28/llm/blob/main/bac/rag/test-graph-neo4j.ipynb\" target=\"_parent\"><img src=\"https://colab.research.google.com/assets/colab-badge.svg\" alt=\"Open In Colab\"/></a>"
      ]
    },
    {
      "cell_type": "markdown",
      "source": [
        "https://blog.google/products/search/introducing-knowledge-graph-things-not/\n",
        "\n",
        "https://www.microsoft.com/en-us/research/blog/graphrag-unlocking-llm-discovery-on-narrative-private-data/\n",
        "\n",
        "https://github.com/langchain-ai/langchain-experimental/blob/main/libs/experimental/langchain_experimental/graph_transformers/llm.py"
      ],
      "metadata": {
        "id": "qHbxs0BIsbd9"
      }
    },
    {
      "cell_type": "code",
      "execution_count": null,
      "metadata": {
        "colab": {
          "base_uri": "https://localhost:8080/"
        },
        "id": "WYhB2OARw_Nq",
        "outputId": "f22f6fec-2ab0-450c-a466-a82c1495963b"
      },
      "outputs": [
        {
          "output_type": "stream",
          "name": "stdout",
          "text": [
            "\u001b[2K   \u001b[90m━━━━━━━━━━━━━━━━━━━━━━━━━━━━━━━━━━━━━━━━\u001b[0m \u001b[32m2.5/2.5 MB\u001b[0m \u001b[31m13.6 MB/s\u001b[0m eta \u001b[36m0:00:00\u001b[0m\n",
            "\u001b[2K   \u001b[90m━━━━━━━━━━━━━━━━━━━━━━━━━━━━━━━━━━━━━━━━\u001b[0m \u001b[32m301.7/301.7 kB\u001b[0m \u001b[31m10.8 MB/s\u001b[0m eta \u001b[36m0:00:00\u001b[0m\n",
            "\u001b[2K   \u001b[90m━━━━━━━━━━━━━━━━━━━━━━━━━━━━━━━━━━━━━━━━\u001b[0m \u001b[32m109.6/109.6 kB\u001b[0m \u001b[31m6.0 MB/s\u001b[0m eta \u001b[36m0:00:00\u001b[0m\n",
            "\u001b[2K   \u001b[90m━━━━━━━━━━━━━━━━━━━━━━━━━━━━━━━━━━━━━━━━\u001b[0m \u001b[32m49.5/49.5 kB\u001b[0m \u001b[31m2.4 MB/s\u001b[0m eta \u001b[36m0:00:00\u001b[0m\n",
            "\u001b[?25h"
          ]
        }
      ],
      "source": [
        "!pip install --upgrade --quiet  langchain langchain-community langchain-groq neo4j"
      ]
    },
    {
      "cell_type": "code",
      "source": [
        "## Graphdb configuration\n",
        "NEO4J_URI=\"neo4j+s://0dfd465c.databases.neo4j.io\"\n",
        "NEO4J_USERNAME=\"neo4j\"\n",
        "NEO4J_PASSWORD=\"HUelZeF8lKUEDCaiT7wo2lHokOARk2fbAYB0S109tSk\""
      ],
      "metadata": {
        "id": "OBL8Iqs4xoeh"
      },
      "execution_count": null,
      "outputs": []
    },
    {
      "cell_type": "code",
      "source": [
        "import os\n",
        "os.environ[\"NEO4J_URI\"]=NEO4J_URI\n",
        "os.environ[\"NEO4J_USERNAME\"]=NEO4J_USERNAME\n",
        "os.environ[\"NEO4J_PASSWORD\"]=NEO4J_PASSWORD"
      ],
      "metadata": {
        "id": "uDS6XHgbycee"
      },
      "execution_count": null,
      "outputs": []
    },
    {
      "cell_type": "code",
      "source": [
        "from langchain_community.graphs import Neo4jGraph\n",
        "graph=Neo4jGraph(\n",
        "    url=NEO4J_URI,\n",
        "    username=NEO4J_USERNAME,\n",
        "    password=NEO4J_PASSWORD,\n",
        ")"
      ],
      "metadata": {
        "id": "5rikUUiCymWG",
        "outputId": "0ef78fa0-f9cd-4cc8-97c1-e29d193d30e8",
        "colab": {
          "base_uri": "https://localhost:8080/"
        }
      },
      "execution_count": null,
      "outputs": [
        {
          "output_type": "stream",
          "name": "stderr",
          "text": [
            "<ipython-input-4-18767fd1e585>:2: LangChainDeprecationWarning: The class `Neo4jGraph` was deprecated in LangChain 0.3.8 and will be removed in 1.0. An updated version of the class exists in the :class:`~langchain-neo4j package and should be used instead. To use it run `pip install -U :class:`~langchain-neo4j` and import as `from :class:`~langchain_neo4j import Neo4jGraph``.\n",
            "  graph=Neo4jGraph(\n"
          ]
        }
      ]
    },
    {
      "cell_type": "code",
      "source": [
        "graph"
      ],
      "metadata": {
        "colab": {
          "base_uri": "https://localhost:8080/"
        },
        "id": "j6Zy5Bc_y1oN",
        "outputId": "48a4ba7a-78c0-47d8-b37c-66c657a593ac"
      },
      "execution_count": null,
      "outputs": [
        {
          "output_type": "execute_result",
          "data": {
            "text/plain": [
              "<langchain_community.graphs.neo4j_graph.Neo4jGraph at 0x794c80c9ef20>"
            ]
          },
          "metadata": {},
          "execution_count": 5
        }
      ]
    },
    {
      "cell_type": "code",
      "source": [
        "from google.colab import userdata\n",
        "groq_api_key=userdata.get('GROQ_API_KEY')"
      ],
      "metadata": {
        "id": "55sZpcz8y2dx"
      },
      "execution_count": null,
      "outputs": []
    },
    {
      "cell_type": "code",
      "source": [
        "from langchain_groq import ChatGroq\n",
        "\n",
        "llm=ChatGroq(groq_api_key=groq_api_key,model_name=\"Gemma2-9b-It\")\n",
        "llm"
      ],
      "metadata": {
        "colab": {
          "base_uri": "https://localhost:8080/"
        },
        "id": "YtqR-fXVzxXZ",
        "outputId": "1ca2683e-6a7c-411f-a1d2-0d8786f83942"
      },
      "execution_count": null,
      "outputs": [
        {
          "output_type": "execute_result",
          "data": {
            "text/plain": [
              "ChatGroq(client=<groq.resources.chat.completions.Completions object at 0x794c46791000>, async_client=<groq.resources.chat.completions.AsyncCompletions object at 0x794c46790850>, model_name='Gemma2-9b-It', model_kwargs={}, groq_api_key=SecretStr('**********'))"
            ]
          },
          "metadata": {},
          "execution_count": 7
        }
      ]
    },
    {
      "cell_type": "code",
      "source": [
        "from langchain_core.documents import Document\n",
        "text=\"\"\"\n",
        "Elon Reeve Musk (born June 28, 1971) is a businessman and investor known for his key roles in space\n",
        "company SpaceX and automotive company Tesla, Inc. Other involvements include ownership of X Corp.,\n",
        "formerly Twitter, and his role in the founding of The Boring Company, xAI, Neuralink and OpenAI.\n",
        "He is one of the wealthiest people in the world; as of July 2024, Forbes estimates his net worth to be\n",
        "US$221 billion.Musk was born in Pretoria to Maye and engineer Errol Musk, and briefly attended\n",
        "the University of Pretoria before immigrating to Canada at age 18, acquiring citizenship through\n",
        "his Canadian-born mother. Two years later, he matriculated at Queen's University at Kingston in Canada.\n",
        "Musk later transferred to the University of Pennsylvania and received bachelor's degrees in economics\n",
        " and physics. He moved to California in 1995 to attend Stanford University, but dropped out after\n",
        "  two days and, with his brother Kimbal, co-founded online city guide software company Zip2.\n",
        " \"\"\"\n",
        "documents=[Document(page_content=text)]\n",
        "documents"
      ],
      "metadata": {
        "colab": {
          "base_uri": "https://localhost:8080/"
        },
        "id": "tMw2lopJ0XnX",
        "outputId": "bc92be61-625b-4143-f3eb-9e000853269d"
      },
      "execution_count": null,
      "outputs": [
        {
          "output_type": "execute_result",
          "data": {
            "text/plain": [
              "[Document(metadata={}, page_content=\"\\nElon Reeve Musk (born June 28, 1971) is a businessman and investor known for his key roles in space\\ncompany SpaceX and automotive company Tesla, Inc. Other involvements include ownership of X Corp.,\\nformerly Twitter, and his role in the founding of The Boring Company, xAI, Neuralink and OpenAI.\\nHe is one of the wealthiest people in the world; as of July 2024, Forbes estimates his net worth to be\\nUS$221 billion.Musk was born in Pretoria to Maye and engineer Errol Musk, and briefly attended\\nthe University of Pretoria before immigrating to Canada at age 18, acquiring citizenship through\\nhis Canadian-born mother. Two years later, he matriculated at Queen's University at Kingston in Canada.\\nMusk later transferred to the University of Pennsylvania and received bachelor's degrees in economics\\n and physics. He moved to California in 1995 to attend Stanford University, but dropped out after\\n  two days and, with his brother Kimbal, co-founded online city guide software company Zip2.\\n \")]"
            ]
          },
          "metadata": {},
          "execution_count": 8
        }
      ]
    },
    {
      "cell_type": "code",
      "source": [
        "!pip install --upgrade --quiet langchain_experimental"
      ],
      "metadata": {
        "colab": {
          "base_uri": "https://localhost:8080/"
        },
        "id": "6mbEhsdS1Y0N",
        "outputId": "7e77920d-8030-44ba-a32a-6b299b9b7709"
      },
      "execution_count": null,
      "outputs": [
        {
          "output_type": "stream",
          "name": "stdout",
          "text": [
            "\u001b[?25l   \u001b[90m━━━━━━━━━━━━━━━━━━━━━━━━━━━━━━━━━━━━━━━━\u001b[0m \u001b[32m0.0/209.2 kB\u001b[0m \u001b[31m?\u001b[0m eta \u001b[36m-:--:--\u001b[0m\r\u001b[2K   \u001b[91m━━━━━━━━━━━━━━━━━━━\u001b[0m\u001b[91m╸\u001b[0m\u001b[90m━━━━━━━━━━━━━━━━━━━━\u001b[0m \u001b[32m102.4/209.2 kB\u001b[0m \u001b[31m2.8 MB/s\u001b[0m eta \u001b[36m0:00:01\u001b[0m\r\u001b[2K   \u001b[90m━━━━━━━━━━━━━━━━━━━━━━━━━━━━━━━━━━━━━━━━\u001b[0m \u001b[32m209.2/209.2 kB\u001b[0m \u001b[31m3.4 MB/s\u001b[0m eta \u001b[36m0:00:00\u001b[0m\n",
            "\u001b[?25h"
          ]
        }
      ]
    },
    {
      "cell_type": "code",
      "source": [
        "from langchain_experimental.graph_transformers import LLMGraphTransformer\n",
        "llm_transformer=LLMGraphTransformer(llm=llm)"
      ],
      "metadata": {
        "id": "8ripzwTX0q1X"
      },
      "execution_count": null,
      "outputs": []
    },
    {
      "cell_type": "code",
      "source": [
        "graph_documents=llm_transformer.convert_to_graph_documents(documents)"
      ],
      "metadata": {
        "id": "QedL67iH1ujK"
      },
      "execution_count": null,
      "outputs": []
    },
    {
      "cell_type": "code",
      "source": [
        "graph_documents"
      ],
      "metadata": {
        "colab": {
          "base_uri": "https://localhost:8080/"
        },
        "id": "uAdF2BZm13w4",
        "outputId": "aedf6949-3e7b-4607-9bb0-d8433f2eb53f"
      },
      "execution_count": null,
      "outputs": [
        {
          "output_type": "execute_result",
          "data": {
            "text/plain": [
              "[GraphDocument(nodes=[Node(id='Elon Reeve Musk', type='Person', properties={}), Node(id='Maye', type='Person', properties={}), Node(id='Errol Musk', type='Person', properties={}), Node(id='Kimbal', type='Person', properties={}), Node(id='Spacex', type='Organization', properties={}), Node(id='Tesla, Inc.', type='Organization', properties={}), Node(id='X Corp.', type='Organization', properties={}), Node(id='Twitter', type='Organization', properties={}), Node(id='The Boring Company', type='Organization', properties={}), Node(id='Xai', type='Organization', properties={}), Node(id='Neuralink', type='Organization', properties={}), Node(id='Openai', type='Organization', properties={}), Node(id='University Of Pretoria', type='Educational institution', properties={}), Node(id=\"Queen'S University At Kingston\", type='Educational institution', properties={}), Node(id='University Of Pennsylvania', type='Educational institution', properties={}), Node(id='Stanford University', type='Educational institution', properties={}), Node(id='Zip2', type='Organization', properties={})], relationships=[Relationship(source=Node(id='Elon Reeve Musk', type='Person', properties={}), target=Node(id='Maye', type='Person', properties={}), type='PARENT', properties={}), Relationship(source=Node(id='Elon Reeve Musk', type='Person', properties={}), target=Node(id='Errol Musk', type='Person', properties={}), type='PARENT', properties={}), Relationship(source=Node(id='Elon Reeve Musk', type='Person', properties={}), target=Node(id='Kimbal', type='Person', properties={}), type='SIBLING', properties={}), Relationship(source=Node(id='Elon Reeve Musk', type='Person', properties={}), target=Node(id='Spacex', type='Organization', properties={}), type='LEADER', properties={}), Relationship(source=Node(id='Elon Reeve Musk', type='Person', properties={}), target=Node(id='Tesla, Inc.', type='Organization', properties={}), type='LEADER', properties={}), Relationship(source=Node(id='Elon Reeve Musk', type='Person', properties={}), target=Node(id='X Corp.', type='Organization', properties={}), type='OWNER', properties={}), Relationship(source=Node(id='X Corp.', type='Organization', properties={}), target=Node(id='Twitter', type='Organization', properties={}), type='PREDECESSOR', properties={}), Relationship(source=Node(id='Elon Reeve Musk', type='Person', properties={}), target=Node(id='The Boring Company', type='Organization', properties={}), type='FOUNDER', properties={}), Relationship(source=Node(id='Elon Reeve Musk', type='Person', properties={}), target=Node(id='Xai', type='Organization', properties={}), type='FOUNDER', properties={}), Relationship(source=Node(id='Elon Reeve Musk', type='Person', properties={}), target=Node(id='Neuralink', type='Organization', properties={}), type='FOUNDER', properties={}), Relationship(source=Node(id='Elon Reeve Musk', type='Person', properties={}), target=Node(id='Openai', type='Organization', properties={}), type='FOUNDER', properties={}), Relationship(source=Node(id='Elon Reeve Musk', type='Person', properties={}), target=Node(id='University Of Pretoria', type='Educational institution', properties={}), type='ATTENDED', properties={}), Relationship(source=Node(id='Elon Reeve Musk', type='Person', properties={}), target=Node(id=\"Queen'S University At Kingston\", type='Educational institution', properties={}), type='ATTENDED', properties={}), Relationship(source=Node(id='Elon Reeve Musk', type='Person', properties={}), target=Node(id='University Of Pennsylvania', type='Educational institution', properties={}), type='ATTENDED', properties={}), Relationship(source=Node(id='Elon Reeve Musk', type='Person', properties={}), target=Node(id='Stanford University', type='Educational institution', properties={}), type='ATTENDED', properties={}), Relationship(source=Node(id='Elon Reeve Musk', type='Person', properties={}), target=Node(id='Zip2', type='Organization', properties={}), type='CO-FOUNDER', properties={})], source=Document(metadata={}, page_content=\"\\nElon Reeve Musk (born June 28, 1971) is a businessman and investor known for his key roles in space\\ncompany SpaceX and automotive company Tesla, Inc. Other involvements include ownership of X Corp.,\\nformerly Twitter, and his role in the founding of The Boring Company, xAI, Neuralink and OpenAI.\\nHe is one of the wealthiest people in the world; as of July 2024, Forbes estimates his net worth to be\\nUS$221 billion.Musk was born in Pretoria to Maye and engineer Errol Musk, and briefly attended\\nthe University of Pretoria before immigrating to Canada at age 18, acquiring citizenship through\\nhis Canadian-born mother. Two years later, he matriculated at Queen's University at Kingston in Canada.\\nMusk later transferred to the University of Pennsylvania and received bachelor's degrees in economics\\n and physics. He moved to California in 1995 to attend Stanford University, but dropped out after\\n  two days and, with his brother Kimbal, co-founded online city guide software company Zip2.\\n \"))]"
            ]
          },
          "metadata": {},
          "execution_count": 12
        }
      ]
    },
    {
      "cell_type": "code",
      "source": [
        "graph_documents[0].nodes"
      ],
      "metadata": {
        "colab": {
          "base_uri": "https://localhost:8080/"
        },
        "id": "h3pSzKLE2OJj",
        "outputId": "88179f84-e802-4a37-c04d-28d998f8cc3c"
      },
      "execution_count": null,
      "outputs": [
        {
          "output_type": "execute_result",
          "data": {
            "text/plain": [
              "[Node(id='Elon Reeve Musk', type='Person', properties={}),\n",
              " Node(id='Maye', type='Person', properties={}),\n",
              " Node(id='Errol Musk', type='Person', properties={}),\n",
              " Node(id='Kimbal', type='Person', properties={}),\n",
              " Node(id='Spacex', type='Organization', properties={}),\n",
              " Node(id='Tesla, Inc.', type='Organization', properties={}),\n",
              " Node(id='X Corp.', type='Organization', properties={}),\n",
              " Node(id='Twitter', type='Organization', properties={}),\n",
              " Node(id='The Boring Company', type='Organization', properties={}),\n",
              " Node(id='Xai', type='Organization', properties={}),\n",
              " Node(id='Neuralink', type='Organization', properties={}),\n",
              " Node(id='Openai', type='Organization', properties={}),\n",
              " Node(id='University Of Pretoria', type='Educational institution', properties={}),\n",
              " Node(id=\"Queen'S University At Kingston\", type='Educational institution', properties={}),\n",
              " Node(id='University Of Pennsylvania', type='Educational institution', properties={}),\n",
              " Node(id='Stanford University', type='Educational institution', properties={}),\n",
              " Node(id='Zip2', type='Organization', properties={})]"
            ]
          },
          "metadata": {},
          "execution_count": 13
        }
      ]
    },
    {
      "cell_type": "code",
      "source": [
        "graph_documents[0].relationships"
      ],
      "metadata": {
        "colab": {
          "base_uri": "https://localhost:8080/"
        },
        "id": "DvvdoA5W2fEZ",
        "outputId": "4fb90a3e-d5d1-462d-ba9f-f2e09c1684b9"
      },
      "execution_count": null,
      "outputs": [
        {
          "output_type": "execute_result",
          "data": {
            "text/plain": [
              "[Relationship(source=Node(id='Elon Reeve Musk', type='Person', properties={}), target=Node(id='Maye', type='Person', properties={}), type='PARENT', properties={}),\n",
              " Relationship(source=Node(id='Elon Reeve Musk', type='Person', properties={}), target=Node(id='Errol Musk', type='Person', properties={}), type='PARENT', properties={}),\n",
              " Relationship(source=Node(id='Elon Reeve Musk', type='Person', properties={}), target=Node(id='Kimbal', type='Person', properties={}), type='SIBLING', properties={}),\n",
              " Relationship(source=Node(id='Elon Reeve Musk', type='Person', properties={}), target=Node(id='Spacex', type='Organization', properties={}), type='LEADER', properties={}),\n",
              " Relationship(source=Node(id='Elon Reeve Musk', type='Person', properties={}), target=Node(id='Tesla, Inc.', type='Organization', properties={}), type='LEADER', properties={}),\n",
              " Relationship(source=Node(id='Elon Reeve Musk', type='Person', properties={}), target=Node(id='X Corp.', type='Organization', properties={}), type='OWNER', properties={}),\n",
              " Relationship(source=Node(id='X Corp.', type='Organization', properties={}), target=Node(id='Twitter', type='Organization', properties={}), type='PREDECESSOR', properties={}),\n",
              " Relationship(source=Node(id='Elon Reeve Musk', type='Person', properties={}), target=Node(id='The Boring Company', type='Organization', properties={}), type='FOUNDER', properties={}),\n",
              " Relationship(source=Node(id='Elon Reeve Musk', type='Person', properties={}), target=Node(id='Xai', type='Organization', properties={}), type='FOUNDER', properties={}),\n",
              " Relationship(source=Node(id='Elon Reeve Musk', type='Person', properties={}), target=Node(id='Neuralink', type='Organization', properties={}), type='FOUNDER', properties={}),\n",
              " Relationship(source=Node(id='Elon Reeve Musk', type='Person', properties={}), target=Node(id='Openai', type='Organization', properties={}), type='FOUNDER', properties={}),\n",
              " Relationship(source=Node(id='Elon Reeve Musk', type='Person', properties={}), target=Node(id='University Of Pretoria', type='Educational institution', properties={}), type='ATTENDED', properties={}),\n",
              " Relationship(source=Node(id='Elon Reeve Musk', type='Person', properties={}), target=Node(id=\"Queen'S University At Kingston\", type='Educational institution', properties={}), type='ATTENDED', properties={}),\n",
              " Relationship(source=Node(id='Elon Reeve Musk', type='Person', properties={}), target=Node(id='University Of Pennsylvania', type='Educational institution', properties={}), type='ATTENDED', properties={}),\n",
              " Relationship(source=Node(id='Elon Reeve Musk', type='Person', properties={}), target=Node(id='Stanford University', type='Educational institution', properties={}), type='ATTENDED', properties={}),\n",
              " Relationship(source=Node(id='Elon Reeve Musk', type='Person', properties={}), target=Node(id='Zip2', type='Organization', properties={}), type='CO-FOUNDER', properties={})]"
            ]
          },
          "metadata": {},
          "execution_count": 14
        }
      ]
    },
    {
      "cell_type": "code",
      "source": [
        "### Load the dataset of movie\n",
        "\n",
        "movie_query=\"\"\"\n",
        "LOAD CSV WITH HEADERS FROM\n",
        "'https://raw.githubusercontent.com/tomasonjo/blog-datasets/main/movies/movies_small.csv' as row\n",
        "\n",
        "MERGE(m:Movie{id:row.movieId})\n",
        "SET m.released = date(row.released),\n",
        "    m.title = row.title,\n",
        "    m.imdbRating = toFloat(row.imdbRating)\n",
        "FOREACH (director in split(row.director, '|') |\n",
        "    MERGE (p:Person {name:trim(director)})\n",
        "    MERGE (p)-[:DIRECTED]->(m))\n",
        "FOREACH (actor in split(row.actors, '|') |\n",
        "    MERGE (p:Person {name:trim(actor)})\n",
        "    MERGE (p)-[:ACTED_IN]->(m))\n",
        "FOREACH (genre in split(row.genres, '|') |\n",
        "    MERGE (g:Genre {name:trim(genre)})\n",
        "    MERGE (m)-[:IN_GENRE]->(g))\n",
        "\"\"\""
      ],
      "metadata": {
        "id": "EPOewFsm5DZv"
      },
      "execution_count": null,
      "outputs": []
    },
    {
      "cell_type": "code",
      "source": [
        "graph"
      ],
      "metadata": {
        "colab": {
          "base_uri": "https://localhost:8080/"
        },
        "id": "UeRdr8nm7rAw",
        "outputId": "94388c7f-7cdb-4ea5-a4a2-dacc2f88254c"
      },
      "execution_count": null,
      "outputs": [
        {
          "output_type": "execute_result",
          "data": {
            "text/plain": [
              "<langchain_community.graphs.neo4j_graph.Neo4jGraph at 0x794c80c9ef20>"
            ]
          },
          "metadata": {},
          "execution_count": 16
        }
      ]
    },
    {
      "cell_type": "code",
      "source": [
        "graph.query(movie_query)"
      ],
      "metadata": {
        "colab": {
          "base_uri": "https://localhost:8080/"
        },
        "id": "6YeLz1st7rp2",
        "outputId": "169f9473-9cfe-4666-ba0c-69de1ae089a6"
      },
      "execution_count": null,
      "outputs": [
        {
          "output_type": "execute_result",
          "data": {
            "text/plain": [
              "[]"
            ]
          },
          "metadata": {},
          "execution_count": 17
        }
      ]
    },
    {
      "cell_type": "code",
      "source": [
        "graph.refresh_schema()\n",
        "print(graph.schema)"
      ],
      "metadata": {
        "colab": {
          "base_uri": "https://localhost:8080/"
        },
        "id": "nQm5agJA7xnH",
        "outputId": "3025dc1c-37f1-440a-8220-c59715c39a56"
      },
      "execution_count": null,
      "outputs": [
        {
          "output_type": "stream",
          "name": "stdout",
          "text": [
            "Node properties:\n",
            "PERSON {name: STRING, born: INTEGER}\n",
            "Movie {id: STRING, released: DATE, title: STRING, imdbRating: FLOAT}\n",
            "Person {name: STRING}\n",
            "Genre {name: STRING}\n",
            "Relationship properties:\n",
            "\n",
            "The relationships:\n",
            "(:Movie)-[:IN_GENRE]->(:Genre)\n",
            "(:Person)-[:DIRECTED]->(:Movie)\n",
            "(:Person)-[:ACTED_IN]->(:Movie)\n"
          ]
        }
      ]
    },
    {
      "cell_type": "code",
      "source": [
        "from langchain.chains import GraphCypherQAChain\n",
        "chain=GraphCypherQAChain.from_llm(llm=llm,graph=graph,verbose=True,allow_dangerous_requests=True)\n",
        "chain"
      ],
      "metadata": {
        "colab": {
          "base_uri": "https://localhost:8080/"
        },
        "id": "tGUot6uZ8wnj",
        "outputId": "6a284894-c9e2-4527-b677-f33e5fc84044"
      },
      "execution_count": null,
      "outputs": [
        {
          "output_type": "execute_result",
          "data": {
            "text/plain": [
              "GraphCypherQAChain(verbose=True, graph=<langchain_community.graphs.neo4j_graph.Neo4jGraph object at 0x794c80c9ef20>, cypher_generation_chain=LLMChain(verbose=False, prompt=PromptTemplate(input_variables=['question', 'schema'], input_types={}, partial_variables={}, template='Task:Generate Cypher statement to query a graph database.\\nInstructions:\\nUse only the provided relationship types and properties in the schema.\\nDo not use any other relationship types or properties that are not provided.\\nSchema:\\n{schema}\\nNote: Do not include any explanations or apologies in your responses.\\nDo not respond to any questions that might ask anything else than for you to construct a Cypher statement.\\nDo not include any text except the generated Cypher statement.\\n\\nThe question is:\\n{question}'), llm=ChatGroq(client=<groq.resources.chat.completions.Completions object at 0x794c46791000>, async_client=<groq.resources.chat.completions.AsyncCompletions object at 0x794c46790850>, model_name='Gemma2-9b-It', model_kwargs={}, groq_api_key=SecretStr('**********')), output_parser=StrOutputParser(), llm_kwargs={}), qa_chain=LLMChain(verbose=False, prompt=PromptTemplate(input_variables=['context', 'question'], input_types={}, partial_variables={}, template=\"You are an assistant that helps to form nice and human understandable answers.\\nThe information part contains the provided information that you must use to construct an answer.\\nThe provided information is authoritative, you must never doubt it or try to use your internal knowledge to correct it.\\nMake the answer sound as a response to the question. Do not mention that you based the result on the given information.\\nHere is an example:\\n\\nQuestion: Which managers own Neo4j stocks?\\nContext:[manager:CTL LLC, manager:JANE STREET GROUP LLC]\\nHelpful Answer: CTL LLC, JANE STREET GROUP LLC owns Neo4j stocks.\\n\\nFollow this example when generating answers.\\nIf the provided information is empty, say that you don't know the answer.\\nInformation:\\n{context}\\n\\nQuestion: {question}\\nHelpful Answer:\"), llm=ChatGroq(client=<groq.resources.chat.completions.Completions object at 0x794c46791000>, async_client=<groq.resources.chat.completions.AsyncCompletions object at 0x794c46790850>, model_name='Gemma2-9b-It', model_kwargs={}, groq_api_key=SecretStr('**********')), output_parser=StrOutputParser(), llm_kwargs={}), graph_schema='Node properties are the following:\\nPERSON {name: STRING, born: INTEGER},Movie {id: STRING, released: DATE, title: STRING, imdbRating: FLOAT},Person {name: STRING},Genre {name: STRING}\\nRelationship properties are the following:\\n\\nThe relationships are the following:\\n(:Movie)-[:IN_GENRE]->(:Genre),(:Person)-[:DIRECTED]->(:Movie),(:Person)-[:ACTED_IN]->(:Movie)', allow_dangerous_requests=True)"
            ]
          },
          "metadata": {},
          "execution_count": 20
        }
      ]
    },
    {
      "cell_type": "code",
      "source": [
        "response=chain.invoke({\"query\":\"Who was the director of the moview GoldenEye\"})\n",
        "\n",
        "response\n"
      ],
      "metadata": {
        "colab": {
          "base_uri": "https://localhost:8080/"
        },
        "id": "53tukPgo9Ab9",
        "outputId": "fefad952-7add-4363-a030-bf46c95c848a"
      },
      "execution_count": null,
      "outputs": [
        {
          "output_type": "stream",
          "name": "stdout",
          "text": [
            "\n",
            "\n",
            "\u001b[1m> Entering new GraphCypherQAChain chain...\u001b[0m\n",
            "Generated Cypher:\n",
            "\u001b[32;1m\u001b[1;3mMATCH (m:Movie {title: \"GoldenEye\"})<-[:DIRECTED]-(p:Person) RETURN p.name\n",
            "\u001b[0m\n",
            "Full Context:\n",
            "\u001b[32;1m\u001b[1;3m[{'p.name': 'Martin Campbell'}]\u001b[0m\n",
            "\n",
            "\u001b[1m> Finished chain.\u001b[0m\n"
          ]
        },
        {
          "output_type": "execute_result",
          "data": {
            "text/plain": [
              "{'query': 'Who was the director of the moview GoldenEye',\n",
              " 'result': 'Martin Campbell  \\n'}"
            ]
          },
          "metadata": {},
          "execution_count": 21
        }
      ]
    },
    {
      "cell_type": "code",
      "source": [
        "response=chain.invoke({\"query\":\"tell me the genre of th movie GoldenEye\"})\n",
        "\n",
        "response"
      ],
      "metadata": {
        "colab": {
          "base_uri": "https://localhost:8080/"
        },
        "id": "mlipgwFC9WD4",
        "outputId": "0905f7e4-3885-4193-9bd2-a24f83f9beed"
      },
      "execution_count": null,
      "outputs": [
        {
          "output_type": "stream",
          "name": "stdout",
          "text": [
            "\n",
            "\n",
            "\u001b[1m> Entering new GraphCypherQAChain chain...\u001b[0m\n",
            "Generated Cypher:\n",
            "\u001b[32;1m\u001b[1;3mMATCH (m:Movie {title: 'GoldenEye'})<-[:IN_GENRE]-(g:Genre) RETURN g.name  \n",
            "\u001b[0m\n",
            "Full Context:\n",
            "\u001b[32;1m\u001b[1;3m[]\u001b[0m\n",
            "\n",
            "\u001b[1m> Finished chain.\u001b[0m\n"
          ]
        },
        {
          "output_type": "execute_result",
          "data": {
            "text/plain": [
              "{'query': 'tell me the genre of th movie GoldenEye',\n",
              " 'result': \"I don't know the answer. \\n\"}"
            ]
          },
          "metadata": {},
          "execution_count": 22
        }
      ]
    },
    {
      "cell_type": "code",
      "source": [
        "response=chain.invoke({\"query\":\"Who was the director in movie Casino\"})\n",
        "\n",
        "response"
      ],
      "metadata": {
        "colab": {
          "base_uri": "https://localhost:8080/"
        },
        "id": "Sjfw-Dzp9gN4",
        "outputId": "1ab728f3-dc9b-4867-c385-d8de777617e0"
      },
      "execution_count": null,
      "outputs": [
        {
          "output_type": "stream",
          "name": "stdout",
          "text": [
            "\n",
            "\n",
            "\u001b[1m> Entering new GraphCypherQAChain chain...\u001b[0m\n",
            "Generated Cypher:\n",
            "\u001b[32;1m\u001b[1;3mMATCH (m:Movie {id: 'Casino'})<-[:DIRECTED]-(p:Person) RETURN p.name\n",
            "\u001b[0m\n",
            "Full Context:\n",
            "\u001b[32;1m\u001b[1;3m[]\u001b[0m\n",
            "\n",
            "\u001b[1m> Finished chain.\u001b[0m\n"
          ]
        },
        {
          "output_type": "execute_result",
          "data": {
            "text/plain": [
              "{'query': 'Who was the director in movie Casino',\n",
              " 'result': \"I don't know the answer. \\n\"}"
            ]
          },
          "metadata": {},
          "execution_count": 23
        }
      ]
    },
    {
      "cell_type": "code",
      "source": [
        "response=chain.invoke({\"query\":\"Which movie were released in 2008\"})\n",
        "\n",
        "response"
      ],
      "metadata": {
        "colab": {
          "base_uri": "https://localhost:8080/"
        },
        "id": "ksOQww5J-Dqa",
        "outputId": "ab988d00-cd78-42f9-c26c-394f580c62b7"
      },
      "execution_count": null,
      "outputs": [
        {
          "output_type": "stream",
          "name": "stdout",
          "text": [
            "\n",
            "\n",
            "\u001b[1m> Entering new GraphCypherQAChain chain...\u001b[0m\n",
            "Generated Cypher:\n",
            "\u001b[32;1m\u001b[1;3mMATCH (m:Movie)\n",
            "WHERE m.released = \"2008\"\n",
            "RETURN m.title\u001b[0m\n",
            "Full Context:\n",
            "\u001b[32;1m\u001b[1;3m[]\u001b[0m\n",
            "\n",
            "\u001b[1m> Finished chain.\u001b[0m\n"
          ]
        },
        {
          "output_type": "execute_result",
          "data": {
            "text/plain": [
              "{'query': 'Which movie were released in 2008',\n",
              " 'result': \"I don't know the answer. \\n\"}"
            ]
          },
          "metadata": {},
          "execution_count": 24
        }
      ]
    },
    {
      "cell_type": "code",
      "source": [
        "response=chain.invoke({\"query\":\"Give me the list of movie having imdb rating more than 8\"})\n",
        "response"
      ],
      "metadata": {
        "colab": {
          "base_uri": "https://localhost:8080/"
        },
        "id": "ca614gfG-2ge",
        "outputId": "9b441c6b-2f38-42fe-aefb-d22efea3d109"
      },
      "execution_count": null,
      "outputs": [
        {
          "output_type": "stream",
          "name": "stdout",
          "text": [
            "\n",
            "\n",
            "\u001b[1m> Entering new GraphCypherQAChain chain...\u001b[0m\n",
            "Generated Cypher:\n",
            "\u001b[32;1m\u001b[1;3mMATCH (m:Movie) WHERE m.imdbRating > 8 RETURN m.title \n",
            "\u001b[0m\n",
            "Full Context:\n",
            "\u001b[32;1m\u001b[1;3m[{'m.title': 'Toy Story'}, {'m.title': 'Heat'}, {'m.title': 'Casino'}, {'m.title': 'Twelve Monkeys (a.k.a. 12 Monkeys)'}, {'m.title': 'Seven (a.k.a. Se7en)'}, {'m.title': 'Usual Suspects, The'}, {'m.title': 'Hate (Haine, La)'}, {'m.title': 'Braveheart'}, {'m.title': 'Taxi Driver'}, {'m.title': 'Anne Frank Remembered'}]\u001b[0m\n",
            "\n",
            "\u001b[1m> Finished chain.\u001b[0m\n"
          ]
        },
        {
          "output_type": "execute_result",
          "data": {
            "text/plain": [
              "{'query': 'Give me the list of movie having imdb rating more than 8',\n",
              " 'result': \"I don't know the answer. \\n\"}"
            ]
          },
          "metadata": {},
          "execution_count": 25
        }
      ]
    },
    {
      "cell_type": "code",
      "source": [
        "examples = [\n",
        "    {\n",
        "        \"question\": \"How many artists are there?\",\n",
        "        \"query\": \"MATCH (a:Person)-[:ACTED_IN]->(:Movie) RETURN count(DISTINCT a)\",\n",
        "    },\n",
        "    {\n",
        "        \"question\": \"Which actors played in the movie Casino?\",\n",
        "        \"query\": \"MATCH (m:Movie {{title: 'Casino'}})<-[:ACTED_IN]-(a) RETURN a.name\",\n",
        "    },\n",
        "    {\n",
        "        \"question\": \"How many movies has Tom Hanks acted in?\",\n",
        "        \"query\": \"MATCH (a:Person {name: 'Tom Hanks'})-[:ACTED_IN]->(m:Movie) RETURN count(m)\",\n",
        "    },\n",
        "    {\n",
        "        \"question\": \"List all the genres of the movie Schindler's List\",\n",
        "        \"query\": \"MATCH (m:Movie {{title: 'Schindler\\\\'s List'}})-[:IN_GENRE]->(g:Genre) RETURN g.name\",\n",
        "    },\n",
        "    {\n",
        "        \"question\": \"Which actors have worked in movies from both the comedy and action genres?\",\n",
        "        \"query\": \"MATCH (a:Person)-[:ACTED_IN]->(:Movie)-[:IN_GENRE]->(g1:Genre), (a)-[:ACTED_IN]->(:Movie)-[:IN_GENRE]->(g2:Genre) WHERE g1.name = 'Comedy' AND g2.name = 'Action' RETURN DISTINCT a.name\",\n",
        "    },\n",
        "    {\n",
        "        \"question\": \"Which directors have made movies with at least three different actors named 'John'?\",\n",
        "        \"query\": \"MATCH (d:Person)-[:DIRECTED]->(m:Movie)<-[:ACTED_IN]-(a:Person) WHERE a.name STARTS WITH 'John' WITH d, COUNT(DISTINCT a) AS JohnsCount WHERE JohnsCount >= 3 RETURN d.name\",\n",
        "    },\n",
        "    {\n",
        "        \"question\": \"Identify movies where directors also played a role in the film.\",\n",
        "        \"query\": \"MATCH (p:Person)-[:DIRECTED]->(m:Movie), (p)-[:ACTED_IN]->(m) RETURN m.title, p.name\",\n",
        "    },\n",
        "    {\n",
        "        \"question\": \"Find the actor with the highest number of movies in the database.\",\n",
        "        \"query\": \"MATCH (a:Actor)-[:ACTED_IN]->(m:Movie) RETURN a.name, COUNT(m) AS movieCount ORDER BY movieCount DESC LIMIT 1\",\n",
        "    },\n",
        "]"
      ],
      "metadata": {
        "id": "G0u93nW-_Sy7"
      },
      "execution_count": null,
      "outputs": []
    },
    {
      "cell_type": "code",
      "source": [],
      "metadata": {
        "id": "WM_t7tAIPVcD"
      },
      "execution_count": null,
      "outputs": []
    }
  ]
}