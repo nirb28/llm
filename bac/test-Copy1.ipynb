{
 "cells": [
  {
   "cell_type": "code",
   "execution_count": null,
   "id": "967d4ddf-a26c-4e64-af04-b5b1085273a3",
   "metadata": {},
   "outputs": [],
   "source": [
    "model_name = \"slall/opt-125M-imdb-lora-adapter-merged\""
   ]
  },
  {
   "cell_type": "code",
   "execution_count": null,
   "id": "0e442b6d-f06c-42d8-8488-6a6169d9b98f",
   "metadata": {},
   "outputs": [],
   "source": [
    "from openai import OpenAI\n",
    "# Modify OpenAI's API key and API base to use vLLM's API server.\n",
    "openai_api_key = \"EMPTY\"\n",
    "openai_api_base = \"http://localhost:8000/v1\"\n",
    "client = OpenAI(\n",
    "    api_key=openai_api_key,\n",
    "    base_url=openai_api_base,\n",
    ")\n",
    "completion = client.completions.create(model=model_name,\n",
    "                                      prompt=\"San Francisco is a\")\n",
    "print(\"Completion result:\", completion)"
   ]
  },
  {
   "cell_type": "code",
   "execution_count": null,
   "id": "edcff4f5-953e-4d12-ad21-4176419ba796",
   "metadata": {},
   "outputs": [],
   "source": [
    "pipe = pipeline(\"feature-extraction\")\n",
    "#pipe.save_pretrained(\"distilroberta-base\")"
   ]
  },
  {
   "cell_type": "code",
   "execution_count": null,
   "id": "fe45f83b-9d5f-4d74-b59b-a0ec6901274d",
   "metadata": {},
   "outputs": [],
   "source": [
    "from transformers import pipeline\n",
    "\n",
    "feature_extraction = pipeline('feature-extraction', model=\"/home/azureuser/distilroberta-base\", tokenizer=\"/home/azureuser/distilroberta-base\")\n",
    "embeddings = feature_extraction([\"Hello I'm a single sentence\",\n",
    "                               \"And another sentence\",\n",
    "                               \"And the very very last one\"])\n",
    "embeddings"
   ]
  },
  {
   "cell_type": "code",
   "execution_count": null,
   "id": "bc632458-0d20-46d3-8059-beab556e95de",
   "metadata": {},
   "outputs": [],
   "source": [
    "from vllm import LLM, SamplingParams\n",
    "llm = LLM(model=model_name)"
   ]
  },
  {
   "cell_type": "code",
   "execution_count": null,
   "id": "4036b98e-112b-4f01-9a10-a480cc77b75c",
   "metadata": {},
   "outputs": [],
   "source": [
    "from langchain_community.llms import VLLM\n",
    "llm = VLLM(\n",
    "    model=model_name,\n",
    "    trust_remote_code=True,  # mandatory for hf models\n",
    "    max_new_tokens=128,\n",
    "    top_k=10,\n",
    "    top_p=0.95,\n",
    "    temperature=0.8,\n",
    ")\n",
    "\n",
    "print(llm.invoke(\"What is the capital of France ?\"))"
   ]
  },
  {
   "cell_type": "code",
   "execution_count": null,
   "id": "03f3d26a-92cf-4db1-9606-edcd0fee7937",
   "metadata": {},
   "outputs": [],
   "source": [
    "from langchain.chains import LLMChain\n",
    "from langchain_core.prompts import PromptTemplate\n",
    "\n",
    "template = \"\"\"Question: {question}\n",
    "\n",
    "Answer: Let's think step by step.\"\"\"\n",
    "prompt = PromptTemplate.from_template(template)\n",
    "\n",
    "llm_chain = LLMChain(prompt=prompt, llm=llm)\n",
    "\n",
    "question = \"Who was the US president in the year the first Pokemon game was released?\"\n",
    "\n",
    "print(llm_chain.invoke(question))"
   ]
  },
  {
   "cell_type": "code",
   "execution_count": null,
   "id": "56e34165-20db-49fc-9aac-2435e5749cb1",
   "metadata": {},
   "outputs": [],
   "source": [
    "# LORA NOT SUPPORTED ON CPU\n",
    "from langchain_community.llms import VLLM\n",
    "from vllm.lora.request import LoRARequest\n",
    "\n",
    "llm = VLLM(\n",
    "    model=\"facebook/opt-125m\",\n",
    "    top_k=1,\n",
    "    top_p=0.90,\n",
    "    temperature=0.1,\n",
    "    vllm_kwargs={\n",
    "        \"enable_lora\": True,\n",
    "        \"max_model_len\": 350,\n",
    "    },\n",
    ")\n",
    "\n",
    "LoRA_ADAPTER_PATH = \"path/to/adapter\"\n",
    "lora_adapter = LoRARequest(\"lora_adapter\", 1, LoRA_ADAPTER_PATH)\n",
    "\n",
    "print(\n",
    "    llm.invoke(\"What are some popular Korean street foods?\", lora_request=lora_adapter)\n",
    ")"
   ]
  },
  {
   "cell_type": "markdown",
   "id": "54053f7b-874a-4225-b7bc-1ae7edc716da",
   "metadata": {},
   "source": [
    "## Vector DB / Embeddings example"
   ]
  },
  {
   "cell_type": "code",
   "execution_count": null,
   "id": "2e1ea40c-097b-4a33-9bbe-b2d328933f6d",
   "metadata": {},
   "outputs": [],
   "source": [
    "!pip install PyMuPDF langchain-community "
   ]
  },
  {
   "cell_type": "code",
   "execution_count": null,
   "id": "2fa0966b-ae47-4ac4-91a5-a50e4507f115",
   "metadata": {},
   "outputs": [],
   "source": [
    "from langchain_core.documents import Document\n",
    "\n",
    "documents = [\n",
    "    Document(\n",
    "        page_content=\"Dogs are great companions, known for their loyalty and friendliness.\",\n",
    "        metadata={\"source\": \"mammal-pets-doc\"},\n",
    "    ),\n",
    "    Document(\n",
    "        page_content=\"Cats are independent pets that often enjoy their own space.\",\n",
    "        metadata={\"source\": \"mammal-pets-doc\"},\n",
    "    ),\n",
    "]"
   ]
  },
  {
   "cell_type": "code",
   "execution_count": null,
   "id": "9f09a622-733d-4671-9c71-38253fbde2a3",
   "metadata": {},
   "outputs": [],
   "source": [
    "from langchain_community.document_loaders import PyMuPDFLoader\n",
    "\n",
    "file_path = \"nke-10k-2023.pdf\"\n",
    "loader = PyMuPDFLoader(file_path)\n",
    "\n",
    "docs = loader.load()\n",
    "\n",
    "print(len(docs))"
   ]
  },
  {
   "cell_type": "code",
   "execution_count": null,
   "id": "f4bcfcb5-79f7-409a-af2a-3c4766ff8bfc",
   "metadata": {},
   "outputs": [],
   "source": [
    "print(f\"{docs[0].page_content[:200]}\\n\")\n",
    "print(docs[0].metadata)"
   ]
  },
  {
   "cell_type": "code",
   "execution_count": null,
   "id": "4c9dc817-a138-4350-a958-77a17954b751",
   "metadata": {},
   "outputs": [],
   "source": [
    "from langchain_text_splitters import RecursiveCharacterTextSplitter\n",
    "\n",
    "text_splitter = RecursiveCharacterTextSplitter(\n",
    "    chunk_size=1000, chunk_overlap=200, add_start_index=True\n",
    ")\n",
    "all_splits = text_splitter.split_documents(docs)\n",
    "\n",
    "len(all_splits)"
   ]
  },
  {
   "cell_type": "code",
   "execution_count": null,
   "id": "6f797387-d192-4f8d-8237-00cc0a4a2056",
   "metadata": {},
   "outputs": [],
   "source": [
    "from langchain_core.vectorstores import InMemoryVectorStore\n",
    "\n",
    "vector_store = InMemoryVectorStore(feature_extraction)"
   ]
  },
  {
   "cell_type": "code",
   "execution_count": null,
   "id": "745c7e95-b28d-4e46-ad6e-15c85903dbd9",
   "metadata": {},
   "outputs": [],
   "source": [
    "ids = vector_store.add_documents(documents=all_splits)"
   ]
  },
  {
   "cell_type": "code",
   "execution_count": 17,
   "id": "764799d7-eaa7-4aa1-8805-6a91789178af",
   "metadata": {},
   "outputs": [
    {
     "name": "stderr",
     "output_type": "stream",
     "text": [
      "No sentence-transformers model found with name distilbert/distilroberta-base. Creating a new one with mean pooling.\n"
     ]
    }
   ],
   "source": [
    "from langchain_huggingface import HuggingFaceEmbeddings\n",
    "\n",
    "embeddings = HuggingFaceEmbeddings(model_name=\"distilbert/distilroberta-base\") #model=\"/home/azureuser/distilroberta-base\"\n",
    "\n",
    "text = \"This is a test document.\"\n",
    "query_result = embeddings.embed_query(text)"
   ]
  },
  {
   "cell_type": "code",
   "execution_count": null,
   "id": "32c93051-8aab-424d-8520-192b653d66b3",
   "metadata": {},
   "outputs": [],
   "source": [
    "query_result"
   ]
  },
  {
   "cell_type": "code",
   "execution_count": null,
   "id": "3db36cb9-6552-4a67-9c93-52f0dd589971",
   "metadata": {},
   "outputs": [],
   "source": []
  }
 ],
 "metadata": {
  "kernelspec": {
   "display_name": "Python (vllm)",
   "language": "python",
   "name": "vllm"
  },
  "language_info": {
   "codemirror_mode": {
    "name": "ipython",
    "version": 3
   },
   "file_extension": ".py",
   "mimetype": "text/x-python",
   "name": "python",
   "nbconvert_exporter": "python",
   "pygments_lexer": "ipython3",
   "version": "3.12.7"
  }
 },
 "nbformat": 4,
 "nbformat_minor": 5
}
