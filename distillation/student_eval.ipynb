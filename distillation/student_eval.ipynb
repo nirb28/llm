{
 "cells": [
  {
   "metadata": {},
   "cell_type": "markdown",
   "source": "<a href=\"https://colab.research.google.com/github/nirb28/llm/blob/main/distillation/accuracy.ipynb\" target=\"_parent\"><img src=\"https://colab.research.google.com/assets/colab-badge.svg\" alt=\"Open In Colab\"/></a>",
   "id": "b6ca696ae2d5ef34"
  },
  {
   "metadata": {},
   "cell_type": "markdown",
   "source": [
    "### Calculate a Target Accuracy\n",
    "\n",
    "$$\n",
    "\\text{Accuracy} = \\frac{\\text{Number of Correct Predictions}}{\\text{Total Number of Predictions}} \\times100\n",
    "$$\n",
    "\n",
    "Calculating a base accuracy of Llama 3.1 405B vs the expectation from the dataset's labels gives us a target accuracy to aim for when training our student language model"
   ],
   "id": "6fb8063fd09da640"
  },
  {
   "metadata": {},
   "cell_type": "markdown",
   "source": "",
   "id": "762f18dd92c7de58"
  },
  {
   "metadata": {
    "ExecuteTime": {
     "end_time": "2024-08-15T18:36:01.979026Z",
     "start_time": "2024-08-15T18:35:53.200014Z"
    }
   },
   "cell_type": "code",
   "source": [
    "import pandas as pd\n",
    "from sklearn.metrics import accuracy_score\n",
    "from common.utils import get_project_root\n",
    "\n",
    "# Load your updated CSV file\n",
    "df = pd.read_csv(str(get_project_root())+\"/data/tweet_sentiment/test_groq_llama8b.csv\")\n",
    "\n",
    "# Calculate accuracy\n",
    "accuracy = accuracy_score(df['label_text'], df['Llama_405B_label_text'])\n",
    "\n",
    "print(f\"Accuracy of Llama 3.1 405B: {accuracy:.2%}\")"
   ],
   "id": "2e6d003da91df2db",
   "execution_count": 1,
   "outputs": []
  },
  {
   "metadata": {},
   "cell_type": "markdown",
   "source": [
    "---\n",
    "# Training Student Model\n",
    "\n",
    "Our student model will be [FacebookAI/roberta-base](https://huggingface.co/FacebookAI/roberta-base), a 125 million parameter language model. We'll be fine tuning this model on our Llama 3.1 405B annotated data using [AutoTrain Advanced](https://github.com/huggingface/autotrain-advanced), HuggingFaces' packaged opensource solution for lowcode model training. They make it as easy as possible to run on local hardware, or via GPU accelerator platforms like Google's Colab or [HuggingFace Spaces](https://huggingface.co/autotrain).\n",
    "\n",
    "We'll be using the *train* segment of the annotations generated, specifically the text from the original tweets and label as the Llama 3.1 405B generated label, passing in these hyperparameters (AutoTrain format)\n",
    "\n",
    "```python\n",
    "{\n",
    "  \"auto_find_batch_size\": \"false\",\n",
    "  \"eval_strategy\": \"epoch\",\n",
    "  \"mixed_precision\": \"fp16\",\n",
    "  \"optimizer\": \"adamw_torch\",\n",
    "  \"scheduler\": \"linear\",\n",
    "  \"batch_size\": \"16\",\n",
    "  \"early_stopping_patience\": \"5\",\n",
    "  \"early_stopping_threshold\": \"0.01\",\n",
    "  \"epochs\": \"5\",\n",
    "  \"gradient_accumulation\": \"1\",\n",
    "  \"lr\": \"0.00005\",\n",
    "  \"logging_steps\": \"-1\",\n",
    "  \"max_grad_norm\": \"1\",\n",
    "  \"max_seq_length\": \"128\",\n",
    "  \"save_total_limit\": \"1\",\n",
    "  \"seed\": \"42\",\n",
    "  \"warmup_ratio\": \"0.1\",\n",
    "  \"weight_decay\": \"0\"\n",
    "}\n",
    "```\n",
    "\n",
    "Final trained model published at [daljeetsingh/roberta-llama3.1405B-twitter-sentiment](https://huggingface.co/AdamLucek/roberta-llama3.1405B-twitter-sentiment)"
   ],
   "id": "d7a9c098c49689f2"
  },
  {
   "metadata": {},
   "cell_type": "markdown",
   "source": [
    "---\n",
    "# Testing Out the Fine Tuned Model\n",
    "\n",
    "We'll be using [HuggingFace's Transformers Package Pipelines](https://huggingface.co/docs/transformers/en/main_classes/pipelines) to easily load and run inference using our trained model"
   ],
   "id": "d25c1062588f057a"
  },
  {
   "metadata": {
    "ExecuteTime": {
     "end_time": "2024-08-11T21:45:57.182775Z",
     "start_time": "2024-08-11T21:45:39.825423Z"
    }
   },
   "cell_type": "code",
   "source": [
    "from transformers import pipeline\n",
    "pipe = pipeline(\"text-classification\")\n",
    "pipe(\"hi\")"
   ],
   "id": "68cd8b5f4516dda5",
   "execution_count": 1,
   "outputs": []
  },
  {
   "metadata": {
    "ExecuteTime": {
     "end_time": "2024-08-15T18:37:56.995350Z",
     "start_time": "2024-08-15T18:37:43.842956Z"
    }
   },
   "cell_type": "code",
   "source": [
    "from transformers import pipeline\n",
    "# Create sentiment Analysis pipeline\n",
    "#student_classifier = pipeline(\"sentiment-analysis\", model=\"AdamLucek/roberta-llama3.1405B-twitter-sentiment\")\n",
    "student_classifier = pipeline(\"sentiment-analysis\", model=\"daljeetsingh/autotrain-roberta-sentiment\")\n",
    "#roberta_classifier = pipeline(\"sentiment-analysis\", model=\"FacebookAI/roberta-base\")"
   ],
   "id": "1b8657b1db5f2a76",
   "execution_count": 2,
   "outputs": []
  },
  {
   "metadata": {
    "ExecuteTime": {
     "end_time": "2024-08-15T18:38:02.599972Z",
     "start_time": "2024-08-15T18:38:01.489494Z"
    }
   },
   "cell_type": "code",
   "source": "student_classifier(\"Want to get a Blackberry but can`t afford it. Just watching the telly and relaxing. Hard sesion tomorrow.\")",
   "id": "947ed170f325d78",
   "execution_count": 3,
   "outputs": []
  },
  {
   "metadata": {
    "ExecuteTime": {
     "end_time": "2024-08-15T18:39:19.259274Z",
     "start_time": "2024-08-15T18:38:21.499982Z"
    }
   },
   "cell_type": "code",
   "source": [
    "import json, csv\n",
    "from common.utils import get_project_root\n",
    "\n",
    "def process_csv(input_file, output_file):\n",
    "    i = 0\n",
    "    with open(input_file, 'r', newline='', encoding='utf-8') as infile, \\\n",
    "         open(output_file, 'w', newline='', encoding='utf-8') as outfile:\n",
    "\n",
    "        reader = csv.DictReader(infile)\n",
    "        fieldnames = reader.fieldnames + ['student_label_text']\n",
    "\n",
    "        writer = csv.DictWriter(outfile, fieldnames=fieldnames)\n",
    "        writer.writeheader()\n",
    "\n",
    "        for row in reader:\n",
    "            try:\n",
    "                # Invoke the chain with the text from the current row\n",
    "                response = student_classifier(row['text'])\n",
    "                result = json.loads(response) if isinstance(response, str) else response\n",
    "\n",
    "                # Add new fields to the row\n",
    "                row['student_label_text'] = result[0]['label']\n",
    "\n",
    "                # Write the updated row to the output file immediately\n",
    "                writer.writerow(row)\n",
    "\n",
    "                # Flush the write buffer to ensure data is written to disk\n",
    "                outfile.flush()\n",
    "\n",
    "                i+=1\n",
    "                print(f\"{i} - Processed and saved row with id: {row['id']}\")\n",
    "                \n",
    "            except Exception as e:\n",
    "                # Error handling\n",
    "                print(f\"Error processing row with id {row.get('id', 'unknown')}: {str(e)}\")\n",
    "                print(e)\n",
    "                break\n",
    "                continue\n",
    "\n",
    "    print(f\"Processing completed. Output saved to: {output_file}\")\n",
    "\n",
    "# Usage\n",
    "input_file = str(get_project_root())+\"/data/tweet_sentiment/test_groq_llama8b.csv\"\n",
    "output_file = str(get_project_root())+\"/data/tweet_sentiment/test_groq_llama8b_student.csv\"\n",
    "\n",
    "process_csv(input_file, output_file)"
   ],
   "id": "ff19faa4d3ba9466",
   "execution_count": 4,
   "outputs": []
  },
  {
   "metadata": {},
   "cell_type": "markdown",
   "source": [
    "---\n",
    "# Visualizing Accuracy\n",
    "\n",
    "Now to calculate and compare our fine tuned model's accuracy to compare to LLama 3.1 405B. For fun, also ran tests using [GPT-4o-Mini](https://openai.com/index/gpt-4o-mini-advancing-cost-efficient-intelligence/) and a [generalized multilingual sentiment model of similar size](https://huggingface.co/lxyuan/distilbert-base-multilingual-cased-sentiments-student)."
   ],
   "id": "1437fbe3dc2078d6"
  },
  {
   "metadata": {
    "ExecuteTime": {
     "end_time": "2024-08-12T01:24:18.380708Z",
     "start_time": "2024-08-12T01:24:18.280021Z"
    }
   },
   "cell_type": "code",
   "source": [
    "# Calculate accuracy\n",
    "import pandas as pd\n",
    "from sklearn.metrics import accuracy_score\n",
    "result_df = pd.read_csv(str(get_project_root())+\"/data/tweet_sentiment/test_groq_llama8b_student.csv\")\n",
    "\n",
    "llama31_405B_accuracy = accuracy_score(result_df['label_text'], result_df['Llama_405B_label_text'])\n",
    "#gpt4omini_accuracy = accuracy_score(result_df['label_text'], result_df['GPT4o_mini_label'])\n",
    "ft_roberta = accuracy_score(result_df['label_text'], result_df['student_label_text'])\n",
    "#multilingual = accuracy_score(result_df['label_text'], result_df['ML_Roberta'])"
   ],
   "id": "c8d45db5582835d2",
   "execution_count": 25,
   "outputs": []
  },
  {
   "metadata": {},
   "cell_type": "markdown",
   "source": "### Accuracy Graph",
   "id": "795885840b298050"
  },
  {
   "metadata": {
    "ExecuteTime": {
     "end_time": "2024-08-12T01:24:20.620649Z",
     "start_time": "2024-08-12T01:24:20.400168Z"
    }
   },
   "cell_type": "code",
   "source": [
    "import matplotlib.pyplot as plt\n",
    "\n",
    "# Data\n",
    "models = ['LLama 3.1 405B', 'Fine Tuned Roberta']\n",
    "accuracies = [llama31_405B_accuracy, ft_roberta]\n",
    "\n",
    "# Convert accuracies to percentages\n",
    "percentages = [acc * 100 for acc in accuracies]\n",
    "\n",
    "# Combine models and percentages into a list of tuples, sort by accuracy in descending order\n",
    "sorted_data = sorted(zip(models, percentages), key=lambda x: x[1], reverse=True)\n",
    "sorted_models, sorted_percentages = zip(*sorted_data)\n",
    "\n",
    "# Create bar chart\n",
    "plt.figure(figsize=(10, 6))\n",
    "bars = plt.bar(sorted_models, sorted_percentages, color=['#cde8f4', '#d6f5bf', '#fdd1d1', '#e3d9f0'], edgecolor='black', linewidth=1)\n",
    "plt.title(\"Accuracy of Models on Twitter Sentiment Classification\", fontsize=16)\n",
    "plt.xlabel(\"Model\", fontsize=12)\n",
    "plt.ylabel(\"Accuracy (%)\", fontsize=12)\n",
    "plt.ylim(0, 100)  # Set y-axis range from 0 to 100%\n",
    "\n",
    "# Add value labels on top of each bar\n",
    "for bar in bars:\n",
    "    height = bar.get_height()\n",
    "    plt.text(bar.get_x() + bar.get_width() / 2, height,\n",
    "             f'{height:.2f}%',\n",
    "             ha='center', va='bottom')\n",
    "\n",
    "# Display\n",
    "plt.tight_layout()\n",
    "plt.show()"
   ],
   "id": "822520b852c0548",
   "execution_count": 26,
   "outputs": []
  },
  {
   "metadata": {},
   "cell_type": "markdown",
   "source": "Roughly the same performance at **0.03%** the size!",
   "id": "aea16c9fcf210d68"
  },
  {
   "metadata": {},
   "cell_type": "markdown",
   "source": [
    "### Count of Sentiments\n",
    "\n",
    "Also interesting to consider the distribution of sentiment labels across these models"
   ],
   "id": "1ee7122dd890f38"
  },
  {
   "metadata": {},
   "cell_type": "code",
   "execution_count": null,
   "source": [
    "# List of models and their corresponding label columns\n",
    "models = {\n",
    "    'Llama 3.1 405B': 'Llama_405B_label_text',\n",
    "    'Roberta FineTune': 'Roberta_FT',\n",
    "    'Multilingual Distilbert': 'ML_Roberta',\n",
    "    'GPT 4o Mini': 'GPT4o_mini_label'\n",
    "}\n",
    "\n",
    "# Calculating counts\n",
    "label_counts = {model: {'positive': 0, 'neutral': 0, 'negative': 0} for model in models.keys()}\n",
    "for model, column in models.items():\n",
    "    label_counts[model]['positive'] = result_df[result_df[column] == 'positive'].shape[0]\n",
    "    label_counts[model]['neutral'] = result_df[result_df[column] == 'neutral'].shape[0]\n",
    "    label_counts[model]['negative'] = result_df[result_df[column] == 'negative'].shape[0]\n",
    "\n",
    "# Create a DataFrame for plotting\n",
    "counts_df = pd.DataFrame(label_counts).T\n",
    "\n",
    "# Plotting with outlines\n",
    "ax = counts_df.plot(\n",
    "    kind='bar',\n",
    "    stacked=True,\n",
    "    figsize=(10, 7),\n",
    "    color=['#b3e8d1', '#fccbb2', '#c7d4eb'],\n",
    "    edgecolor='black'\n",
    ")\n",
    "\n",
    "# Add counts on the bars\n",
    "for p in ax.patches:\n",
    "    width, height = p.get_width(), p.get_height()\n",
    "    x, y = p.get_xy()\n",
    "    ax.text(x + width/2,\n",
    "            y + height/2,\n",
    "            f'{int(height)}',\n",
    "            ha='center',\n",
    "            va='center')\n",
    "\n",
    "plt.title('Label Counts per Model')\n",
    "plt.xlabel('Model')\n",
    "plt.ylabel('Count')\n",
    "plt.xticks(rotation=0)\n",
    "plt.legend(title='Label')\n",
    "plt.show()"
   ],
   "id": "37a446d8c23747c2",
   "outputs": []
  },
  {
   "metadata": {},
   "cell_type": "markdown",
   "source": [
    "---\n",
    "# Addtional Notes:\n",
    "\n",
    "\n",
    "Consider the costs:\n",
    "* ~\\$0.08 for gpt4o via OpenAI\n",
    "* ~$1.80 for Llama 3.1 405B via Fireworks\n",
    "\n",
    "And consider the time cost too! Much slower inference with the foundational models compared to the distilled language model.\n",
    "\n",
    "Note that we are not aiming for higher accuracy here, rather a standard metric to assess our fine tuned model to see if it performs now as well as the foundation model\n",
    "\n",
    "And a big shoutout to Moritz Laurer for the https://huggingface.co/blog/synthetic-data-save-costs blog, much of which the primary methodology that guided this notebook was heavily inspired by."
   ],
   "id": "db50842db5f4dad9"
  },
  {
   "cell_type": "code",
   "id": "2d1e4432-4024-4638-bd95-73ec4060b4db",
   "metadata": {},
   "source": [],
   "execution_count": null,
   "outputs": []
  }
 ],
 "metadata": {
  "kernelspec": {
   "display_name": "Python 3 (ipykernel)",
   "language": "python",
   "name": "python3"
  },
  "language_info": {
   "codemirror_mode": {
    "name": "ipython",
    "version": 3
   },
   "file_extension": ".py",
   "mimetype": "text/x-python",
   "name": "python",
   "nbconvert_exporter": "python",
   "pygments_lexer": "ipython3",
   "version": "3.12.1"
  }
 },
 "nbformat": 4,
 "nbformat_minor": 5
}
